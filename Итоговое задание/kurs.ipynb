{
 "cells": [
  {
   "cell_type": "code",
   "execution_count": 1,
   "id": "54f81629",
   "metadata": {},
   "outputs": [],
   "source": [
    "import pandas as pd\n",
    "import numpy as np\n",
    "from sklearn.ensemble import AdaBoostClassifier, BaggingClassifier\n",
    "from sklearn.tree import DecisionTreeClassifier\n",
    "from sklearn.svm import SVC\n",
    "from sklearn.model_selection import train_test_split, GridSearchCV, cross_val_score\n",
    "from sklearn.preprocessing import OneHotEncoder, LabelEncoder, StandardScaler\n",
    "from sklearn.linear_model import LogisticRegression\n",
    "from matplotlib import pyplot as plt, colors\n",
    "from mpl_toolkits.mplot3d import Axes3D\n",
    "from sklearn.metrics import mean_squared_error, make_scorer, rand_score, accuracy_score\n",
    "from sklearn.metrics.pairwise import manhattan_distances\n",
    "from sklearn.neural_network import MLPClassifier\n",
    "from sklearn.manifold import TSNE\n",
    "from sklearn.cluster import KMeans, AgglomerativeClustering\n",
    "from scipy.cluster.hierarchy import dendrogram\n",
    "\n",
    "import torch\n",
    "from torch import nn\n",
    "from torch.utils.data import DataLoader, Dataset\n",
    "from torch import Tensor"
   ]
  },
  {
   "cell_type": "code",
   "execution_count": 2,
   "id": "c3a9e495",
   "metadata": {},
   "outputs": [
    {
     "data": {
      "text/html": [
       "<div>\n",
       "<style scoped>\n",
       "    .dataframe tbody tr th:only-of-type {\n",
       "        vertical-align: middle;\n",
       "    }\n",
       "\n",
       "    .dataframe tbody tr th {\n",
       "        vertical-align: top;\n",
       "    }\n",
       "\n",
       "    .dataframe thead th {\n",
       "        text-align: right;\n",
       "    }\n",
       "</style>\n",
       "<table border=\"1\" class=\"dataframe\">\n",
       "  <thead>\n",
       "    <tr style=\"text-align: right;\">\n",
       "      <th></th>\n",
       "      <th>0</th>\n",
       "      <th>1</th>\n",
       "      <th>2</th>\n",
       "      <th>3</th>\n",
       "      <th>4</th>\n",
       "      <th>5</th>\n",
       "      <th>6</th>\n",
       "      <th>7</th>\n",
       "      <th>8</th>\n",
       "      <th>9</th>\n",
       "      <th>...</th>\n",
       "      <th>22</th>\n",
       "      <th>23</th>\n",
       "      <th>24</th>\n",
       "      <th>25</th>\n",
       "      <th>26</th>\n",
       "      <th>27</th>\n",
       "      <th>28</th>\n",
       "      <th>29</th>\n",
       "      <th>30</th>\n",
       "      <th>31</th>\n",
       "    </tr>\n",
       "  </thead>\n",
       "  <tbody>\n",
       "    <tr>\n",
       "      <th>0</th>\n",
       "      <td>842302</td>\n",
       "      <td>M</td>\n",
       "      <td>17.99</td>\n",
       "      <td>10.38</td>\n",
       "      <td>122.80</td>\n",
       "      <td>1001.0</td>\n",
       "      <td>0.11840</td>\n",
       "      <td>0.27760</td>\n",
       "      <td>0.3001</td>\n",
       "      <td>0.14710</td>\n",
       "      <td>...</td>\n",
       "      <td>25.38</td>\n",
       "      <td>17.33</td>\n",
       "      <td>184.60</td>\n",
       "      <td>2019.0</td>\n",
       "      <td>0.1622</td>\n",
       "      <td>0.6656</td>\n",
       "      <td>0.7119</td>\n",
       "      <td>0.2654</td>\n",
       "      <td>0.4601</td>\n",
       "      <td>0.11890</td>\n",
       "    </tr>\n",
       "    <tr>\n",
       "      <th>1</th>\n",
       "      <td>842517</td>\n",
       "      <td>M</td>\n",
       "      <td>20.57</td>\n",
       "      <td>17.77</td>\n",
       "      <td>132.90</td>\n",
       "      <td>1326.0</td>\n",
       "      <td>0.08474</td>\n",
       "      <td>0.07864</td>\n",
       "      <td>0.0869</td>\n",
       "      <td>0.07017</td>\n",
       "      <td>...</td>\n",
       "      <td>24.99</td>\n",
       "      <td>23.41</td>\n",
       "      <td>158.80</td>\n",
       "      <td>1956.0</td>\n",
       "      <td>0.1238</td>\n",
       "      <td>0.1866</td>\n",
       "      <td>0.2416</td>\n",
       "      <td>0.1860</td>\n",
       "      <td>0.2750</td>\n",
       "      <td>0.08902</td>\n",
       "    </tr>\n",
       "    <tr>\n",
       "      <th>2</th>\n",
       "      <td>84300903</td>\n",
       "      <td>M</td>\n",
       "      <td>19.69</td>\n",
       "      <td>21.25</td>\n",
       "      <td>130.00</td>\n",
       "      <td>1203.0</td>\n",
       "      <td>0.10960</td>\n",
       "      <td>0.15990</td>\n",
       "      <td>0.1974</td>\n",
       "      <td>0.12790</td>\n",
       "      <td>...</td>\n",
       "      <td>23.57</td>\n",
       "      <td>25.53</td>\n",
       "      <td>152.50</td>\n",
       "      <td>1709.0</td>\n",
       "      <td>0.1444</td>\n",
       "      <td>0.4245</td>\n",
       "      <td>0.4504</td>\n",
       "      <td>0.2430</td>\n",
       "      <td>0.3613</td>\n",
       "      <td>0.08758</td>\n",
       "    </tr>\n",
       "    <tr>\n",
       "      <th>3</th>\n",
       "      <td>84348301</td>\n",
       "      <td>M</td>\n",
       "      <td>11.42</td>\n",
       "      <td>20.38</td>\n",
       "      <td>77.58</td>\n",
       "      <td>386.1</td>\n",
       "      <td>0.14250</td>\n",
       "      <td>0.28390</td>\n",
       "      <td>0.2414</td>\n",
       "      <td>0.10520</td>\n",
       "      <td>...</td>\n",
       "      <td>14.91</td>\n",
       "      <td>26.50</td>\n",
       "      <td>98.87</td>\n",
       "      <td>567.7</td>\n",
       "      <td>0.2098</td>\n",
       "      <td>0.8663</td>\n",
       "      <td>0.6869</td>\n",
       "      <td>0.2575</td>\n",
       "      <td>0.6638</td>\n",
       "      <td>0.17300</td>\n",
       "    </tr>\n",
       "    <tr>\n",
       "      <th>4</th>\n",
       "      <td>84358402</td>\n",
       "      <td>M</td>\n",
       "      <td>20.29</td>\n",
       "      <td>14.34</td>\n",
       "      <td>135.10</td>\n",
       "      <td>1297.0</td>\n",
       "      <td>0.10030</td>\n",
       "      <td>0.13280</td>\n",
       "      <td>0.1980</td>\n",
       "      <td>0.10430</td>\n",
       "      <td>...</td>\n",
       "      <td>22.54</td>\n",
       "      <td>16.67</td>\n",
       "      <td>152.20</td>\n",
       "      <td>1575.0</td>\n",
       "      <td>0.1374</td>\n",
       "      <td>0.2050</td>\n",
       "      <td>0.4000</td>\n",
       "      <td>0.1625</td>\n",
       "      <td>0.2364</td>\n",
       "      <td>0.07678</td>\n",
       "    </tr>\n",
       "  </tbody>\n",
       "</table>\n",
       "<p>5 rows × 32 columns</p>\n",
       "</div>"
      ],
      "text/plain": [
       "         0  1      2      3       4       5        6        7       8   \\\n",
       "0    842302  M  17.99  10.38  122.80  1001.0  0.11840  0.27760  0.3001   \n",
       "1    842517  M  20.57  17.77  132.90  1326.0  0.08474  0.07864  0.0869   \n",
       "2  84300903  M  19.69  21.25  130.00  1203.0  0.10960  0.15990  0.1974   \n",
       "3  84348301  M  11.42  20.38   77.58   386.1  0.14250  0.28390  0.2414   \n",
       "4  84358402  M  20.29  14.34  135.10  1297.0  0.10030  0.13280  0.1980   \n",
       "\n",
       "        9   ...     22     23      24      25      26      27      28      29  \\\n",
       "0  0.14710  ...  25.38  17.33  184.60  2019.0  0.1622  0.6656  0.7119  0.2654   \n",
       "1  0.07017  ...  24.99  23.41  158.80  1956.0  0.1238  0.1866  0.2416  0.1860   \n",
       "2  0.12790  ...  23.57  25.53  152.50  1709.0  0.1444  0.4245  0.4504  0.2430   \n",
       "3  0.10520  ...  14.91  26.50   98.87   567.7  0.2098  0.8663  0.6869  0.2575   \n",
       "4  0.10430  ...  22.54  16.67  152.20  1575.0  0.1374  0.2050  0.4000  0.1625   \n",
       "\n",
       "       30       31  \n",
       "0  0.4601  0.11890  \n",
       "1  0.2750  0.08902  \n",
       "2  0.3613  0.08758  \n",
       "3  0.6638  0.17300  \n",
       "4  0.2364  0.07678  \n",
       "\n",
       "[5 rows x 32 columns]"
      ]
     },
     "execution_count": 2,
     "metadata": {},
     "output_type": "execute_result"
    }
   ],
   "source": [
    "data = pd.read_csv('wdbc.data', header=None)\n",
    "data.head()"
   ]
  },
  {
   "cell_type": "markdown",
   "id": "f84be6a4",
   "metadata": {},
   "source": [
    "***ЗАДАНИЕ 1***\n",
    "\n",
    "Разработать 3 классификатора и осуществить настройку их параметров для минимизации ошибки классификации на тестовых данных. Выполнить визуализацию данных при помощи метода t-SNE."
   ]
  },
  {
   "cell_type": "markdown",
   "id": "e7c54965",
   "metadata": {},
   "source": [
    "**1.1. SVM**"
   ]
  },
  {
   "cell_type": "code",
   "execution_count": 3,
   "id": "30f86c65",
   "metadata": {},
   "outputs": [],
   "source": [
    "X = X_scaled = pd.DataFrame(StandardScaler().fit_transform(data.drop(1, axis=1)))\n",
    "\n",
    "y = data[1]\n",
    "X_train, X_test, y_train, y_test = train_test_split(X, y, train_size=0.8, random_state=42)"
   ]
  },
  {
   "cell_type": "code",
   "execution_count": 163,
   "id": "c9681814",
   "metadata": {},
   "outputs": [
    {
     "data": {
      "text/plain": [
       "(SVC(C=4, gamma=0.005, max_iter=100000), 0.9780219780219781)"
      ]
     },
     "execution_count": 163,
     "metadata": {},
     "output_type": "execute_result"
    }
   ],
   "source": [
    "svm_clf = SVC(kernel='linear', max_iter=100000, C=15)\n",
    "params = {'kernel': ['linear', 'poly', 'rbf', 'sigmoid'], 'gamma': np.arange(0.001, 0.01, 0.001), 'C': [4, 5, 6, 7, 8]}\n",
    "gs = GridSearchCV(svm_clf, params, n_jobs=-1)\n",
    "gs.fit(X_train, y_train)\n",
    "gs.best_estimator_, gs.best_score_\n",
    "#svm_clf.fit(X_train, y_train)\n",
    "#svm_clf.score(X_test, y_test)"
   ]
  },
  {
   "cell_type": "code",
   "execution_count": 164,
   "id": "be10d0da",
   "metadata": {},
   "outputs": [
    {
     "data": {
      "text/plain": [
       "0.9824561403508771"
      ]
     },
     "execution_count": 164,
     "metadata": {},
     "output_type": "execute_result"
    }
   ],
   "source": [
    "svm_clf = gs.best_estimator_\n",
    "svm_clf.score(X_test, y_test)"
   ]
  },
  {
   "cell_type": "markdown",
   "id": "c5f4199c",
   "metadata": {},
   "source": [
    "**1.2. Бустинг**"
   ]
  },
  {
   "cell_type": "code",
   "execution_count": 9,
   "id": "6c8fc956",
   "metadata": {},
   "outputs": [
    {
     "name": "stderr",
     "output_type": "stream",
     "text": [
      "C:\\ProgramData\\Anaconda3\\lib\\site-packages\\sklearn\\model_selection\\_search.py:918: UserWarning: One or more of the test scores are non-finite: [       nan        nan        nan        nan        nan        nan\n",
      "        nan        nan        nan        nan        nan        nan\n",
      "        nan        nan        nan        nan        nan        nan\n",
      "        nan        nan        nan        nan        nan        nan\n",
      " 0.97362637 0.96043956 0.95824176 0.95604396 0.95824176 0.96923077\n",
      " 0.95824176 0.96043956 0.96263736 0.96483516 0.96263736 0.96263736\n",
      " 0.96923077 0.96923077 0.96923077 0.96703297 0.96703297 0.96923077\n",
      " 0.96483516 0.96483516 0.96703297 0.96703297 0.96703297 0.96923077\n",
      " 0.94725275 0.95164835 0.94065934 0.95384615 0.94285714 0.95164835\n",
      " 0.95604396 0.96043956 0.95604396 0.95824176 0.96263736 0.96263736\n",
      " 0.95604396 0.95824176 0.96043956 0.96483516 0.96483516 0.95824176\n",
      " 0.96043956 0.96483516 0.96263736 0.96703297 0.96263736 0.96263736\n",
      " 0.95384615 0.94285714 0.95164835 0.95824176 0.95164835 0.95824176\n",
      " 0.95384615 0.95824176 0.94725275 0.96703297 0.96263736 0.96263736\n",
      " 0.96263736 0.96263736 0.96703297 0.96923077 0.96263736 0.96043956\n",
      " 0.96263736 0.96483516 0.96263736 0.96483516 0.97142857 0.96923077\n",
      " 0.95604396 0.94505495 0.96263736 0.95384615 0.95604396 0.95604396\n",
      " 0.96483516 0.96043956 0.95824176 0.96483516 0.96483516 0.96263736\n",
      " 0.96703297 0.95604396 0.96483516 0.96483516 0.96043956 0.96263736\n",
      " 0.96263736 0.96703297 0.96043956 0.96483516 0.96483516 0.96923077\n",
      " 0.94065934 0.95164835 0.93846154 0.94285714 0.94285714 0.93406593\n",
      " 0.95164835 0.95164835 0.94945055 0.95164835 0.95384615 0.94945055\n",
      " 0.95164835 0.94945055 0.94505495 0.94285714 0.95824176 0.95384615\n",
      " 0.95164835 0.94945055 0.95604396 0.94725275 0.94945055 0.95164835]\n",
      "  warnings.warn(\n"
     ]
    },
    {
     "data": {
      "text/plain": [
       "(AdaBoostClassifier(base_estimator=DecisionTreeClassifier(max_depth=1),\n",
       "                    n_estimators=20),\n",
       " 0.9736263736263737)"
      ]
     },
     "execution_count": 9,
     "metadata": {},
     "output_type": "execute_result"
    }
   ],
   "source": [
    "boost_clf = AdaBoostClassifier()\n",
    "trees = [DecisionTreeClassifier(max_depth=i) for i in range(6)]\n",
    "\n",
    "params = {'n_estimators': range(20, 136, 5), 'base_estimator': trees}\n",
    "gs = GridSearchCV(boost_clf, params, n_jobs=-1)\n",
    "gs.fit(X_train, y_train)\n",
    "gs.best_estimator_, gs.best_score_\n",
    "#clf.fit(X_train, y_train)\n",
    "#clf.score(X_test, y_test)"
   ]
  },
  {
   "cell_type": "code",
   "execution_count": 10,
   "id": "a982a480",
   "metadata": {},
   "outputs": [
    {
     "data": {
      "text/plain": [
       "0.9385964912280702"
      ]
     },
     "execution_count": 10,
     "metadata": {},
     "output_type": "execute_result"
    }
   ],
   "source": [
    "boost_clf = gs.best_estimator_\n",
    "boost_clf.score(X_test, y_test)"
   ]
  },
  {
   "cell_type": "markdown",
   "id": "28584536",
   "metadata": {},
   "source": [
    "**1.3 Нейронная сеть**"
   ]
  },
  {
   "cell_type": "code",
   "execution_count": 168,
   "id": "82424f88",
   "metadata": {},
   "outputs": [
    {
     "data": {
      "text/plain": [
       "0.9736842105263158"
      ]
     },
     "execution_count": 168,
     "metadata": {},
     "output_type": "execute_result"
    }
   ],
   "source": [
    "nn_clf = MLPClassifier(hidden_layer_sizes=(4, ), activation='tanh', solver='adam', batch_size=4, max_iter=500)\n",
    "nn_clf.fit(X_train, y_train)\n",
    "nn_clf.score(X_test, y_test)"
   ]
  },
  {
   "cell_type": "markdown",
   "id": "54dac815",
   "metadata": {},
   "source": [
    "*это очень странно, но оказалось достаточно 4х нейронов на скрытом слое, чтобы достигнуть (видимо) предела*"
   ]
  },
  {
   "cell_type": "markdown",
   "id": "cb69090d",
   "metadata": {},
   "source": [
    "**Визуализация**"
   ]
  },
  {
   "cell_type": "code",
   "execution_count": 169,
   "id": "4c953135",
   "metadata": {},
   "outputs": [],
   "source": [
    "tsne = TSNE()\n",
    "X_embedded = tsne.fit_transform(X)"
   ]
  },
  {
   "cell_type": "code",
   "execution_count": 170,
   "id": "862c52c5",
   "metadata": {},
   "outputs": [
    {
     "data": {
      "text/plain": [
       "<matplotlib.collections.PathCollection at 0x2330fdc1610>"
      ]
     },
     "execution_count": 170,
     "metadata": {},
     "output_type": "execute_result"
    },
    {
     "data": {
      "image/png": "[encoded data removed]",
      "text/plain": [
       "<Figure size 432x288 with 1 Axes>"
      ]
     },
     "metadata": {
      "needs_background": "light"
     },
     "output_type": "display_data"
    }
   ],
   "source": [
    "colors = [plt.cm.Spectral(each) for each in np.linspace(0, 1, 2)]\n",
    "cs = [colors[0] if y[i] == 'M' else colors[1] for i in range(len(y))] # ужасный код, пожалуйста, сделайте вид, что Вы его не видели\n",
    "plt.scatter(X_embedded[:, 0], X_embedded[:, 1], c=cs)"
   ]
  },
  {
   "cell_type": "markdown",
   "id": "fe3981aa",
   "metadata": {},
   "source": [
    "***ЗАДАНИЕ 2***\n",
    "\n",
    "Сравнить классификаторы (по критерию вероятность ошибки классификации для тестовых данных) и обосновать выбор наилучшего из них."
   ]
  },
  {
   "cell_type": "markdown",
   "id": "d8ea5ca7",
   "metadata": {},
   "source": [
    "Эмпирическим путем установлено, что лучшим классификатором (по вероятности ошибки на тестовой выборке) оказался SVM с ядром rbf. \n",
    "\n",
    "Примечательно, что нейронная сеть всего с 4 нейронами на скрытом слое показала хорошие результаты. \n",
    "\n",
    "Сеть с 4 нейронами на скрытом слое представляет собой стэкинг четырех логистических регрессий с tanh вместо сигмоиды (это базовые классификаторы), которые передаются в еще одну такую же логистическую регрессию, вычисляющую выход модели. Таким образом, сеть с 4 нейронами на скрытом слое является достаточно сложной структурой с большим числом параметров (по сравнению с прочими моделями)"
   ]
  },
  {
   "cell_type": "markdown",
   "id": "550cbd65",
   "metadata": {},
   "source": [
    "***ЗАДАНИЕ 3***\n",
    "\n",
    "Удалить из базы метки классов и осуществить кластеризацию данных. Построить дендограмму. Сравнить полученные результаты с реальными метками данных. Определить долю ошибочно кластеризованных данных. "
   ]
  },
  {
   "cell_type": "code",
   "execution_count": 4,
   "id": "46eb71f1",
   "metadata": {},
   "outputs": [
    {
     "data": {
      "text/plain": [
       "0.9103690685413005"
      ]
     },
     "execution_count": 4,
     "metadata": {},
     "output_type": "execute_result"
    }
   ],
   "source": [
    "kmeans = KMeans(n_clusters=2, algorithm='elkan')\n",
    "y_pred = kmeans.fit_predict(X)\n",
    "y_nums = LabelEncoder().fit_transform(y)\n",
    "accuracy_score(y_nums, y_pred)"
   ]
  },
  {
   "cell_type": "code",
   "execution_count": 5,
   "id": "05f7398a",
   "metadata": {},
   "outputs": [],
   "source": [
    "def plot_dendrogram(model, **kwargs):\n",
    "    # Создайте матрицу связей, а затем постройте дендрограмму\n",
    "\n",
    "    # создаем количество выборок под каждым узлом\n",
    "    counts = np.zeros(model.children_.shape[0])\n",
    "    n_samples = len(model.labels_)\n",
    "    for i, merge in enumerate(model.children_):\n",
    "        current_count = 0\n",
    "        for child_idx in merge:\n",
    "            if child_idx < n_samples:\n",
    "                current_count += 1  # листовой узел\n",
    "            else:\n",
    "                current_count += counts[child_idx - n_samples]\n",
    "        counts[i] = current_count\n",
    "\n",
    "    linkage_matrix = np.column_stack([model.children_, model.distances_, counts]).astype(float)\n",
    "\n",
    "    # Постройте соответствующую дендрограмму\n",
    "    dendrogram(linkage_matrix, **kwargs)"
   ]
  },
  {
   "cell_type": "code",
   "execution_count": 9,
   "id": "bff87dca",
   "metadata": {},
   "outputs": [
    {
     "data": {
      "image/png": "[encoded data removed]",
      "text/plain": [
       "<Figure size 1080x576 with 1 Axes>"
      ]
     },
     "metadata": {
      "needs_background": "light"
     },
     "output_type": "display_data"
    }
   ],
   "source": [
    "fig, ax = plt.subplots()\n",
    "fig.set_figwidth(15)\n",
    "fig.set_figheight(8)\n",
    "plot_dendrogram(AgglomerativeClustering(n_clusters=2, compute_distances=True).fit(X), ax=ax)"
   ]
  },
  {
   "cell_type": "markdown",
   "id": "b4deb599",
   "metadata": {},
   "source": [
    "***ЗАДАНИЕ 4***\n",
    "\n",
    "Используя логистическую регрессию в рамках метода Лассо, определить наиболее значимые признаки, влияющие на отнесение объектов к определенному классу."
   ]
  },
  {
   "cell_type": "code",
   "execution_count": 12,
   "id": "8aa91e8e",
   "metadata": {},
   "outputs": [
    {
     "data": {
      "text/plain": [
       "LogisticRegression(max_iter=6000, penalty='l1', solver='saga')"
      ]
     },
     "execution_count": 12,
     "metadata": {},
     "output_type": "execute_result"
    }
   ],
   "source": [
    "model = LogisticRegression(penalty='l1', solver='saga', max_iter=6000)\n",
    "model.fit(X, y)"
   ]
  },
  {
   "cell_type": "code",
   "execution_count": 8,
   "id": "5b063dd9",
   "metadata": {},
   "outputs": [
    {
     "data": {
      "text/plain": [
       "array([0.09045869, 0.        , 0.        , 0.        , 0.        ,\n",
       "       0.        , 0.        , 0.10413627, 1.1017114 , 0.        ,\n",
       "       0.14131707, 2.71067638, 0.3640684 , 0.        , 0.        ,\n",
       "       0.26676136, 0.89266188, 0.        , 0.        , 0.        ,\n",
       "       0.23270653, 1.94933572, 1.76853646, 0.60800591, 1.78379757,\n",
       "       0.55831988, 0.        , 1.1308768 , 1.21715107, 0.5522589 ,\n",
       "       0.        ])"
      ]
     },
     "execution_count": 8,
     "metadata": {},
     "output_type": "execute_result"
    },
    {
     "data": {
      "image/png": "[encoded data removed]",
      "text/plain": [
       "<Figure size 1080x576 with 1 Axes>"
      ]
     },
     "metadata": {
      "needs_background": "light"
     },
     "output_type": "display_data"
    }
   ],
   "source": [
    "fig, ax = plt.subplots()\n",
    "fig.set_figwidth(15)\n",
    "fig.set_figheight(8)\n",
    "ax.bar(data.drop(1, axis=1).columns, np.abs(model.coef_[0]))\n",
    "ax.xaxis.set_ticks([0] + [ i for i in range(2, 32)])\n",
    "np.abs(model.coef_[0])"
   ]
  },
  {
   "cell_type": "code",
   "execution_count": 16,
   "id": "96e9d485",
   "metadata": {},
   "outputs": [
    {
     "data": {
      "text/plain": [
       "0.9876977152899824"
      ]
     },
     "execution_count": 16,
     "metadata": {},
     "output_type": "execute_result"
    }
   ],
   "source": [
    "model.score(X, y)"
   ]
  }
 ],
 "metadata": {
  "kernelspec": {
   "display_name": "Python 3",
   "language": "python",
   "name": "python3"
  },
  "language_info": {
   "codemirror_mode": {
    "name": "ipython",
    "version": 3
   },
   "file_extension": ".py",
   "mimetype": "text/x-python",
   "name": "python",
   "nbconvert_exporter": "python",
   "pygments_lexer": "ipython3",
   "version": "3.8.8"
  }
 },
 "nbformat": 4,
 "nbformat_minor": 5
}
